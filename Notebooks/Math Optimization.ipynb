{
 "cells": [
  {
   "cell_type": "code",
   "execution_count": 69,
   "id": "psychological-boring",
   "metadata": {},
   "outputs": [],
   "source": [
    "%timeit\n",
    "import numpy as np\n",
    "from scipy.spatial.distance import cdist"
   ]
  },
  {
   "cell_type": "markdown",
   "id": "metropolitan-webcam",
   "metadata": {},
   "source": [
    "# Obstacle Heuristic Calculation Optimization"
   ]
  },
  {
   "cell_type": "code",
   "execution_count": 105,
   "id": "labeled-evidence",
   "metadata": {},
   "outputs": [],
   "source": [
    "### Obstacles generation\n",
    "min_x = -10\n",
    "max_x = 10\n",
    "min_y = -10\n",
    "max_y = 10\n",
    "num_obstacles = 100\n",
    "\n",
    "obs_x = np.random.uniform(low=min_x, high=max_x, size=(num_obstacles,))\n",
    "obs_y = np.random.uniform(low=min_y, high=max_y, size=(num_obstacles,))\n",
    "obstacles = np.array([obs_x, obs_y]).T\n",
    "\n",
    "# Obstacle dist tolerance\n",
    "obstacle_dist_tol = 4\n",
    "\n",
    "### Trajectory generation\n",
    "N_TIMESTEPS = 60\n",
    "trajectory = np.random.rand(N_TIMESTEPS, 5)\n",
    "trajectory[:,0] = np.linspace(0, 20, N_TIMESTEPS)\n",
    "trajectory[:,1] = np.linspace(0, 20, N_TIMESTEPS)\n",
    "\n",
    "### Robot Stuff\n",
    "robot_state = np.zeros(5)\n",
    "robot_radius = 0.2"
   ]
  },
  {
   "cell_type": "code",
   "execution_count": 106,
   "id": "affected-newark",
   "metadata": {},
   "outputs": [
    {
     "data": {
      "text/plain": [
       "array([[0.        , 0.        , 0.12246629],\n",
       "       [0.33898305, 0.33898305, 0.0981544 ],\n",
       "       [0.6779661 , 0.6779661 , 0.91926324],\n",
       "       [1.01694915, 1.01694915, 0.97375598],\n",
       "       [1.3559322 , 1.3559322 , 0.37657069]])"
      ]
     },
     "execution_count": 106,
     "metadata": {},
     "output_type": "execute_result"
    }
   ],
   "source": [
    "trajectory[0:5, 0:3]"
   ]
  },
  {
   "cell_type": "markdown",
   "id": "approximate-lancaster",
   "metadata": {},
   "source": [
    "### Nearest Obstacle Calculation"
   ]
  },
  {
   "cell_type": "code",
   "execution_count": 107,
   "id": "together-minimum",
   "metadata": {},
   "outputs": [
    {
     "name": "stdout",
     "output_type": "stream",
     "text": [
      "Nearest obstacles: \n",
      " [[ 0.10686252  3.43440846]\n",
      " [-3.36768581 -0.32317175]\n",
      " [-3.01474173 -1.24460746]\n",
      " [-1.60443884 -0.0580862 ]\n",
      " [-0.0207941   0.26836848]\n",
      " [ 2.58059446  2.43252326]\n",
      " [-0.3001136  -2.3767408 ]\n",
      " [-3.46076292  1.10832927]\n",
      " [ 0.33814874 -0.91286807]\n",
      " [ 0.45167805 -3.75836369]\n",
      " [ 0.0783216  -3.50807287]\n",
      " [-3.44029585 -0.09640552]\n",
      " [-0.23741444  3.27302232]\n",
      " [-1.57664554 -1.8177159 ]\n",
      " [-0.21626438  3.96258939]\n",
      " [-1.51007824 -3.65652005]\n",
      " [ 1.69117032  3.0579298 ]\n",
      " [ 2.14591839  2.69530298]] \n",
      "\n",
      "CPU times: user 3.81 ms, sys: 0 ns, total: 3.81 ms\n",
      "Wall time: 2.86 ms\n"
     ]
    }
   ],
   "source": [
    "%%time\n",
    "robot_pos = robot_state[0:2]\n",
    "nearest_obstacles = []\n",
    "for obs in obstacles:\n",
    "    # Distance from robot pose to obstacle\n",
    "    euclidean_dist_to_obs = np.linalg.norm(robot_pos - obs)\n",
    "\n",
    "    # If robot is within range of the obstacle\n",
    "    if euclidean_dist_to_obs < obstacle_dist_tol:\n",
    "        nearest_obstacles.append(obs)\n",
    "nearest_obstacles = np.array(nearest_obstacles)\n",
    "        \n",
    "print(\"Nearest obstacles: \\n\", nearest_obstacles, \"\\n\")"
   ]
  },
  {
   "cell_type": "code",
   "execution_count": 108,
   "id": "typical-closing",
   "metadata": {},
   "outputs": [
    {
     "name": "stdout",
     "output_type": "stream",
     "text": [
      "Nearest obstacles: \n",
      " [[ 0.10686252  3.43440846]\n",
      " [-3.36768581 -0.32317175]\n",
      " [-3.01474173 -1.24460746]\n",
      " [-1.60443884 -0.0580862 ]\n",
      " [-0.0207941   0.26836848]\n",
      " [ 2.58059446  2.43252326]\n",
      " [-0.3001136  -2.3767408 ]\n",
      " [-3.46076292  1.10832927]\n",
      " [ 0.33814874 -0.91286807]\n",
      " [ 0.45167805 -3.75836369]\n",
      " [ 0.0783216  -3.50807287]\n",
      " [-3.44029585 -0.09640552]\n",
      " [-0.23741444  3.27302232]\n",
      " [-1.57664554 -1.8177159 ]\n",
      " [-0.21626438  3.96258939]\n",
      " [-1.51007824 -3.65652005]\n",
      " [ 1.69117032  3.0579298 ]\n",
      " [ 2.14591839  2.69530298]] \n",
      "\n",
      "CPU times: user 809 µs, sys: 364 µs, total: 1.17 ms\n",
      "Wall time: 1.06 ms\n"
     ]
    }
   ],
   "source": [
    "%%time\n",
    "robot_pos = robot_state[0:2]\n",
    "nearest_obstacles_ind = np.where(np.linalg.norm(robot_pos - obstacles, axis=1) < obstacle_dist_tol)\n",
    "\n",
    "nearest_obstacles = obstacles[nearest_obstacles_ind]\n",
    "\n",
    "print(\"Nearest obstacles: \\n\", nearest_obstacles, \"\\n\")"
   ]
  },
  {
   "cell_type": "markdown",
   "id": "fatty-animal",
   "metadata": {},
   "source": [
    "### Obstacle Cost Calculation"
   ]
  },
  {
   "cell_type": "code",
   "execution_count": 111,
   "id": "upper-bonus",
   "metadata": {},
   "outputs": [
    {
     "name": "stdout",
     "output_type": "stream",
     "text": [
      "min_dist:  0.21610619802894418\n",
      "obs_cost:  4.627354555865469 \n",
      "\n",
      "CPU times: user 10.3 ms, sys: 5.05 ms, total: 15.4 ms\n",
      "Wall time: 11.6 ms\n"
     ]
    }
   ],
   "source": [
    "%%time\n",
    "cost = 0.0\n",
    "min_dist = np.inf   # Minimum distance to obstacle\n",
    "\n",
    "# For every trajectory point \n",
    "for i in range(trajectory.shape[0]):\n",
    "    for obs in nearest_obstacles:\n",
    "        # Extract the trajectory's position\n",
    "        trajectory_pos = trajectory[i, 0:2]\n",
    "\n",
    "        # Calculate the distance between the obstacle and the trajectory's position\n",
    "        euclidean_dist_to_obs = np.linalg.norm(trajectory_pos - obs)\n",
    "\n",
    "        # Collision with obstacle? \n",
    "        # Note if dist between robot position and obstacle point is less than the radius of the robot\n",
    "        # Then the obstacle point is within the robot (i.e collision)\n",
    "\n",
    "\n",
    "        if euclidean_dist_to_obs <= robot_radius:\n",
    "            cost = np.inf\n",
    "            break\n",
    "            \n",
    "        if euclidean_dist_to_obs < min_dist:\n",
    "            min_dist = euclidean_dist_to_obs\n",
    "            \n",
    "if cost != np.inf:\n",
    "    cost = 1.0 / min_dist\n",
    "            \n",
    "print(\"min_dist: \", min_dist)\n",
    "print(\"obs_cost: \", cost, \"\\n\")"
   ]
  },
  {
   "cell_type": "code",
   "execution_count": 112,
   "id": "divided-celtic",
   "metadata": {},
   "outputs": [
    {
     "name": "stdout",
     "output_type": "stream",
     "text": [
      "min_dist:  0.21610619802894418\n",
      "obs_cost:  4.627354555865469 \n",
      "\n",
      "CPU times: user 785 µs, sys: 0 ns, total: 785 µs\n",
      "Wall time: 566 µs\n"
     ]
    }
   ],
   "source": [
    "%%time\n",
    "cost = 0.0\n",
    "min_dist = np.inf   # Minimum distance to obstacle\n",
    "\n",
    "trajectory_positions = trajectory[:, 0:2]\n",
    "obs_x = nearest_obstacles[:,0]\n",
    "obs_y = nearest_obstacles[:,1]\n",
    "\n",
    "\n",
    "dx = trajectory_positions[:, 0] - obs_x[:, None]\n",
    "dy = trajectory_positions[:, 1] - obs_y[:, None]\n",
    "euclidean_dist = np.hypot(dx, dy)\n",
    "\n",
    "if np.array(euclidean_dist <= robot_radius).any():\n",
    "    cost = np.inf\n",
    "else:\n",
    "    min_dist = np.min(euclidean_dist)\n",
    "    cost = 1.0 / min_dist\n",
    "\n",
    "# for traj in trajectory_positions:\n",
    "#     if (np.linalg.norm(traj - nearest_obstacles, axis=1) <= robot_radius).any():\n",
    "#         cost = np.inf\n",
    "#         break\n",
    "    \n",
    "    \n",
    "print(\"min_dist: \", min_dist)\n",
    "print(\"obs_cost: \", cost, \"\\n\")"
   ]
  },
  {
   "cell_type": "code",
   "execution_count": null,
   "id": "double-cricket",
   "metadata": {},
   "outputs": [],
   "source": []
  }
 ],
 "metadata": {
  "kernelspec": {
   "display_name": "Python 3",
   "language": "python",
   "name": "python3"
  },
  "language_info": {
   "codemirror_mode": {
    "name": "ipython",
    "version": 3
   },
   "file_extension": ".py",
   "mimetype": "text/x-python",
   "name": "python",
   "nbconvert_exporter": "python",
   "pygments_lexer": "ipython3",
   "version": "3.8.5"
  }
 },
 "nbformat": 4,
 "nbformat_minor": 5
}
