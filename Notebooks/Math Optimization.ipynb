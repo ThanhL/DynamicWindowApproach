{
 "cells": [
  {
   "cell_type": "code",
   "execution_count": 1,
   "id": "collected-venice",
   "metadata": {},
   "outputs": [],
   "source": [
    "%timeit\n",
    "import numpy as np\n",
    "from scipy.spatial.distance import cdist"
   ]
  },
  {
   "cell_type": "markdown",
   "id": "creative-passage",
   "metadata": {},
   "source": [
    "# Obstacle Heuristic Calculation Optimization"
   ]
  },
  {
   "cell_type": "code",
   "execution_count": 2,
   "id": "quantitative-sewing",
   "metadata": {},
   "outputs": [],
   "source": [
    "### Obstacles generation\n",
    "min_x = -10\n",
    "max_x = 10\n",
    "min_y = -10\n",
    "max_y = 10\n",
    "num_obstacles = 100\n",
    "\n",
    "obs_x = np.random.uniform(low=min_x, high=max_x, size=(num_obstacles,))\n",
    "obs_y = np.random.uniform(low=min_y, high=max_y, size=(num_obstacles,))\n",
    "obstacles = np.array([obs_x, obs_y]).T\n",
    "\n",
    "# Obstacle dist tolerance\n",
    "obstacle_dist_tol = 4\n",
    "\n",
    "### Trajectory generation\n",
    "N_TIMESTEPS = 60\n",
    "trajectory = np.random.rand(N_TIMESTEPS, 5)\n",
    "trajectory[:,0] = np.linspace(0, 20, N_TIMESTEPS)\n",
    "trajectory[:,1] = np.linspace(0, 20, N_TIMESTEPS)\n",
    "\n",
    "### Robot Stuff\n",
    "robot_state = np.zeros(5)\n",
    "robot_radius = 0.2\n",
    "\n",
    "### Goal Stuff\n",
    "goal_pose = np.array([4,4,np.pi/2])"
   ]
  },
  {
   "cell_type": "code",
   "execution_count": 3,
   "id": "magnetic-respondent",
   "metadata": {},
   "outputs": [
    {
     "data": {
      "text/plain": [
       "array([[0.        , 0.        , 0.47106082],\n",
       "       [0.33898305, 0.33898305, 0.15251592],\n",
       "       [0.6779661 , 0.6779661 , 0.31077507],\n",
       "       [1.01694915, 1.01694915, 0.57546085],\n",
       "       [1.3559322 , 1.3559322 , 0.38970894]])"
      ]
     },
     "execution_count": 3,
     "metadata": {},
     "output_type": "execute_result"
    }
   ],
   "source": [
    "trajectory[0:5, 0:3]"
   ]
  },
  {
   "cell_type": "markdown",
   "id": "dimensional-interest",
   "metadata": {},
   "source": [
    "### Nearest Obstacle Calculation"
   ]
  },
  {
   "cell_type": "code",
   "execution_count": 4,
   "id": "informational-studio",
   "metadata": {},
   "outputs": [
    {
     "name": "stdout",
     "output_type": "stream",
     "text": [
      "Nearest obstacles: \n",
      " [[ 3.71097963  1.05339285]\n",
      " [-0.80475161  1.55102777]\n",
      " [ 2.85552118  1.93380471]\n",
      " [-2.72564483  2.59704936]\n",
      " [ 3.0647341  -0.42515997]\n",
      " [-0.31646281 -2.4135895 ]\n",
      " [-0.02325552 -2.11067858]\n",
      " [-1.0391162  -0.98059357]\n",
      " [ 3.54929554 -0.03424242]\n",
      " [ 2.08113773 -3.35088509]\n",
      " [ 2.63836206 -0.05999882]] \n",
      "\n",
      "CPU times: user 12.7 ms, sys: 30.9 ms, total: 43.6 ms\n",
      "Wall time: 1.87 ms\n"
     ]
    }
   ],
   "source": [
    "%%time\n",
    "robot_pos = robot_state[0:2]\n",
    "nearest_obstacles = []\n",
    "for obs in obstacles:\n",
    "    # Distance from robot pose to obstacle\n",
    "    euclidean_dist_to_obs = np.linalg.norm(robot_pos - obs)\n",
    "\n",
    "    # If robot is within range of the obstacle\n",
    "    if euclidean_dist_to_obs < obstacle_dist_tol:\n",
    "        nearest_obstacles.append(obs)\n",
    "nearest_obstacles = np.array(nearest_obstacles)\n",
    "        \n",
    "print(\"Nearest obstacles: \\n\", nearest_obstacles, \"\\n\")"
   ]
  },
  {
   "cell_type": "code",
   "execution_count": 5,
   "id": "mental-rwanda",
   "metadata": {},
   "outputs": [
    {
     "name": "stdout",
     "output_type": "stream",
     "text": [
      "Nearest obstacles: \n",
      " [[ 3.71097963  1.05339285]\n",
      " [-0.80475161  1.55102777]\n",
      " [ 2.85552118  1.93380471]\n",
      " [-2.72564483  2.59704936]\n",
      " [ 3.0647341  -0.42515997]\n",
      " [-0.31646281 -2.4135895 ]\n",
      " [-0.02325552 -2.11067858]\n",
      " [-1.0391162  -0.98059357]\n",
      " [ 3.54929554 -0.03424242]\n",
      " [ 2.08113773 -3.35088509]\n",
      " [ 2.63836206 -0.05999882]] \n",
      "\n",
      "CPU times: user 7.86 ms, sys: 27.5 ms, total: 35.4 ms\n",
      "Wall time: 1.55 ms\n"
     ]
    }
   ],
   "source": [
    "%%time\n",
    "robot_pos = robot_state[0:2]\n",
    "nearest_obstacles_ind = np.where(np.linalg.norm(robot_pos - obstacles, axis=1) < obstacle_dist_tol)\n",
    "\n",
    "nearest_obstacles = obstacles[nearest_obstacles_ind]\n",
    "\n",
    "print(\"Nearest obstacles: \\n\", nearest_obstacles, \"\\n\")"
   ]
  },
  {
   "cell_type": "markdown",
   "id": "anticipated-posting",
   "metadata": {},
   "source": [
    "### Obstacle Cost Calculation"
   ]
  },
  {
   "cell_type": "code",
   "execution_count": 6,
   "id": "commercial-clone",
   "metadata": {},
   "outputs": [
    {
     "name": "stdout",
     "output_type": "stream",
     "text": [
      "min_dist:  0.6524795029418083\n",
      "obs_cost:  1.5326151940273063 \n",
      "\n",
      "CPU times: user 35.1 ms, sys: 111 ms, total: 146 ms\n",
      "Wall time: 6.38 ms\n"
     ]
    }
   ],
   "source": [
    "%%time\n",
    "cost = 0.0\n",
    "min_dist = np.inf   # Minimum distance to obstacle\n",
    "\n",
    "# For every trajectory point \n",
    "for i in range(trajectory.shape[0]):\n",
    "    for obs in nearest_obstacles:\n",
    "        # Extract the trajectory's position\n",
    "        trajectory_pos = trajectory[i, 0:2]\n",
    "\n",
    "        # Calculate the distance between the obstacle and the trajectory's position\n",
    "        euclidean_dist_to_obs = np.linalg.norm(trajectory_pos - obs)\n",
    "\n",
    "        # Collision with obstacle? \n",
    "        # Note if dist between robot position and obstacle point is less than the radius of the robot\n",
    "        # Then the obstacle point is within the robot (i.e collision)\n",
    "\n",
    "\n",
    "        if euclidean_dist_to_obs <= robot_radius:\n",
    "            cost = np.inf\n",
    "            break\n",
    "            \n",
    "        if euclidean_dist_to_obs < min_dist:\n",
    "            min_dist = euclidean_dist_to_obs\n",
    "            \n",
    "if cost != np.inf:\n",
    "    cost = 1.0 / min_dist\n",
    "            \n",
    "print(\"min_dist: \", min_dist)\n",
    "print(\"obs_cost: \", cost, \"\\n\")"
   ]
  },
  {
   "cell_type": "code",
   "execution_count": 7,
   "id": "applicable-wallpaper",
   "metadata": {},
   "outputs": [
    {
     "name": "stdout",
     "output_type": "stream",
     "text": [
      "min_dist:  0.6524795029418083\n",
      "obs_cost:  1.5326151940273063 \n",
      "\n",
      "CPU times: user 0 ns, sys: 20.1 ms, total: 20.1 ms\n",
      "Wall time: 882 µs\n"
     ]
    }
   ],
   "source": [
    "%%time\n",
    "cost = 0.0\n",
    "min_dist = np.inf   # Minimum distance to obstacle\n",
    "\n",
    "trajectory_positions = trajectory[:, 0:2]\n",
    "obs_x = nearest_obstacles[:,0]\n",
    "obs_y = nearest_obstacles[:,1]\n",
    "\n",
    "\n",
    "dx = trajectory_positions[:, 0] - obs_x[:, None]\n",
    "dy = trajectory_positions[:, 1] - obs_y[:, None]\n",
    "euclidean_dist = np.hypot(dx, dy)\n",
    "\n",
    "if np.array(euclidean_dist <= robot_radius).any():\n",
    "    cost = np.inf\n",
    "else:\n",
    "    min_dist = np.min(euclidean_dist)\n",
    "    cost = 1.0 / min_dist\n",
    "\n",
    "# for traj in trajectory_positions:\n",
    "#     if (np.linalg.norm(traj - nearest_obstacles, axis=1) <= robot_radius).any():\n",
    "#         cost = np.inf\n",
    "#         break\n",
    "    \n",
    "    \n",
    "print(\"min_dist: \", min_dist)\n",
    "print(\"obs_cost: \", cost, \"\\n\")"
   ]
  },
  {
   "cell_type": "markdown",
   "id": "instant-vacuum",
   "metadata": {},
   "source": [
    "# Goal Heuristic Optimization"
   ]
  },
  {
   "cell_type": "code",
   "execution_count": 35,
   "id": "bright-clone",
   "metadata": {},
   "outputs": [
    {
     "name": "stdout",
     "output_type": "stream",
     "text": [
      "goal cost:  22.627455599996345 \n",
      "\n",
      "CPU times: user 320 µs, sys: 35 µs, total: 355 µs\n",
      "Wall time: 277 µs\n"
     ]
    }
   ],
   "source": [
    "%%time\n",
    "def calc_goal_heuristic(trajectory, goal_pose):\n",
    "    ### Calculation of euclidean heuristic\n",
    "    goal_pose_x, goal_pose_y, goal_pose_theta = goal_pose\n",
    "    traj_end_x, traj_end_y, traj_end_theta, _, _ = trajectory[-1]\n",
    "\n",
    "    # Magnitude calculations\n",
    "    goal_mag = np.sqrt(goal_pose_x**2 + goal_pose_y**2)\n",
    "    traj_end_mag = np.sqrt(traj_end_x**2 + traj_end_y**2)\n",
    "\n",
    "    # Delta\n",
    "    delta_x = goal_pose_x - traj_end_x\n",
    "    delta_y = goal_pose_y - traj_end_y\n",
    "\n",
    "    # Dot product between trajectory end and goal pose\n",
    "    dot_product = (goal_pose_x * traj_end_x) + (goal_pose_y * traj_end_y)\n",
    "    error_cos_theta = dot_product / (goal_mag * traj_end_mag + np.finfo(np.float32).eps)\n",
    "    error_angle = np.arccos(error_cos_theta) \n",
    "\n",
    "\n",
    "    # ### Orientation error\n",
    "    # error_angle = np.arctan2(delta_y, delta_x) - traj_end_theta\n",
    "\n",
    "    ### Euclidean istance\n",
    "    euclidean_dist_cost = np.sqrt((goal_pose_x - traj_end_x)**2 + (goal_pose_y - traj_end_y)**2)\n",
    "\n",
    "    cost = error_angle + euclidean_dist_cost\n",
    "\n",
    "    return cost\n",
    "\n",
    "goal_cost = calc_goal_heuristic(trajectory, goal_pose)\n",
    "print(\"goal cost: \", goal_cost, \"\\n\")\n"
   ]
  },
  {
   "cell_type": "code",
   "execution_count": 36,
   "id": "expired-luther",
   "metadata": {},
   "outputs": [
    {
     "name": "stdout",
     "output_type": "stream",
     "text": [
      "goal cost:  22.627417019042948 \n",
      "\n",
      "CPU times: user 214 µs, sys: 0 ns, total: 214 µs\n",
      "Wall time: 220 µs\n"
     ]
    }
   ],
   "source": [
    "%%time\n",
    "def calc_goal_heuristic(trajectory, goal_pose):\n",
    "    ### Extract positions\n",
    "    goal_pos = goal_pose[0:2]\n",
    "    traj_pos = trajectory[-1, 0:2]  # Only considering end trajectory for goal heuristic\n",
    "    \n",
    "    ### Calculation of angle between goal and trajectory vectors\n",
    "    goal_unit_vec = goal_pos / np.linalg.norm(goal_pos)\n",
    "    traj_unit_vec = traj_pos / np.linalg.norm(traj_pos)\n",
    "    traj_dot_goal = np.dot(goal_unit_vec, traj_unit_vec)\n",
    "    \n",
    "    error_angle = np.arccos(traj_dot_goal)\n",
    "    \n",
    "    ### Euclidean cost\n",
    "    euclidean_dist_cost = np.linalg.norm(goal_pos - traj_pos)\n",
    "    \n",
    "    ### Total cost\n",
    "    cost = error_angle + euclidean_dist_cost\n",
    "    \n",
    "    return cost\n",
    "\n",
    "goal_cost = calc_goal_heuristic(trajectory, goal_pose)\n",
    "print(\"goal cost: \", goal_cost, \"\\n\")\n",
    "\n"
   ]
  },
  {
   "cell_type": "markdown",
   "id": "square-relationship",
   "metadata": {},
   "source": [
    "## Calculation of Search Space"
   ]
  },
  {
   "cell_type": "code",
   "execution_count": 10,
   "id": "distributed-packaging",
   "metadata": {},
   "outputs": [],
   "source": [
    "dt = 0.2\n",
    "\n",
    "v_a = 3\n",
    "omega_a = 2\n",
    "\n",
    "max_acc = 2\n",
    "max_omega_acc = 3\n",
    "\n",
    "v_min = 0\n",
    "v_max = 5\n",
    "omega_min = 0\n",
    "omega_max = 5\n"
   ]
  },
  {
   "cell_type": "code",
   "execution_count": 11,
   "id": "promotional-undergraduate",
   "metadata": {},
   "outputs": [
    {
     "name": "stdout",
     "output_type": "stream",
     "text": [
      "174 ns ± 1.24 ns per loop (mean ± std. dev. of 7 runs, 10000000 loops each)\n"
     ]
    }
   ],
   "source": [
    "%timeit max(v_max, v_a + max_acc * dt)"
   ]
  },
  {
   "cell_type": "code",
   "execution_count": 12,
   "id": "medical-bobby",
   "metadata": {},
   "outputs": [
    {
     "name": "stdout",
     "output_type": "stream",
     "text": [
      "1.42 µs ± 8.73 ns per loop (mean ± std. dev. of 7 runs, 1000000 loops each)\n"
     ]
    }
   ],
   "source": [
    "%timeit np.maximum(v_max, v_a + max_acc * dt)"
   ]
  },
  {
   "cell_type": "code",
   "execution_count": null,
   "id": "wound-plymouth",
   "metadata": {},
   "outputs": [],
   "source": []
  }
 ],
 "metadata": {
  "kernelspec": {
   "display_name": "Python 3",
   "language": "python",
   "name": "python3"
  },
  "language_info": {
   "codemirror_mode": {
    "name": "ipython",
    "version": 3
   },
   "file_extension": ".py",
   "mimetype": "text/x-python",
   "name": "python",
   "nbconvert_exporter": "python",
   "pygments_lexer": "ipython3",
   "version": "3.8.5"
  }
 },
 "nbformat": 4,
 "nbformat_minor": 5
}
